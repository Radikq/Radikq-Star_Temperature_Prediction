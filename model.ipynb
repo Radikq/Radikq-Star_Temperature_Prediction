{
 "cells": [
  {
   "cell_type": "code",
   "execution_count": 1,
   "id": "90c22031",
   "metadata": {
    "ExecuteTime": {
     "end_time": "2024-07-27T12:01:25.523468500Z",
     "start_time": "2024-07-27T12:01:25.520205500Z"
    },
    "collapsed": false,
    "jupyter": {
     "outputs_hidden": false
    }
   },
   "outputs": [],
   "source": [
    "import pandas as pd\n",
    "import numpy as np\n",
    "\n",
    "import matplotlib.pyplot as plt\n",
    "import seaborn as sns"
   ]
  },
  {
   "cell_type": "markdown",
   "id": "corresponding-armstrong",
   "metadata": {
    "ExecuteTime": {
     "end_time": "2024-07-24T13:06:08.192002700Z",
     "start_time": "2024-07-24T13:06:08.186255700Z"
    }
   },
   "source": [
    "## Загрузка данных"
   ]
  },
  {
   "cell_type": "code",
   "execution_count": 2,
   "id": "spectacular-folder",
   "metadata": {
    "ExecuteTime": {
     "end_time": "2024-07-27T12:27:45.467603100Z",
     "start_time": "2024-07-27T12:27:45.372097300Z"
    }
   },
   "outputs": [
    {
     "data": {
      "text/html": [
       "<div>\n",
       "<style scoped>\n",
       "    .dataframe tbody tr th:only-of-type {\n",
       "        vertical-align: middle;\n",
       "    }\n",
       "\n",
       "    .dataframe tbody tr th {\n",
       "        vertical-align: top;\n",
       "    }\n",
       "\n",
       "    .dataframe thead th {\n",
       "        text-align: right;\n",
       "    }\n",
       "</style>\n",
       "<table border=\"1\" class=\"dataframe\">\n",
       "  <thead>\n",
       "    <tr style=\"text-align: right;\">\n",
       "      <th></th>\n",
       "      <th>Unnamed: 0.1</th>\n",
       "      <th>Unnamed: 0</th>\n",
       "      <th>Temperature (K)</th>\n",
       "      <th>Luminosity(L/Lo)</th>\n",
       "      <th>Radius(R/Ro)</th>\n",
       "      <th>Absolute magnitude(Mv)</th>\n",
       "      <th>Star type</th>\n",
       "      <th>Star color</th>\n",
       "    </tr>\n",
       "  </thead>\n",
       "  <tbody>\n",
       "    <tr>\n",
       "      <th>0</th>\n",
       "      <td>0</td>\n",
       "      <td>0</td>\n",
       "      <td>3068</td>\n",
       "      <td>0.002400</td>\n",
       "      <td>0.1700</td>\n",
       "      <td>16.12</td>\n",
       "      <td>0</td>\n",
       "      <td>Red</td>\n",
       "    </tr>\n",
       "    <tr>\n",
       "      <th>1</th>\n",
       "      <td>1</td>\n",
       "      <td>1</td>\n",
       "      <td>3042</td>\n",
       "      <td>0.000500</td>\n",
       "      <td>0.1542</td>\n",
       "      <td>16.60</td>\n",
       "      <td>0</td>\n",
       "      <td>Red</td>\n",
       "    </tr>\n",
       "    <tr>\n",
       "      <th>2</th>\n",
       "      <td>2</td>\n",
       "      <td>2</td>\n",
       "      <td>2600</td>\n",
       "      <td>0.000300</td>\n",
       "      <td>0.1020</td>\n",
       "      <td>18.70</td>\n",
       "      <td>0</td>\n",
       "      <td>Red</td>\n",
       "    </tr>\n",
       "    <tr>\n",
       "      <th>3</th>\n",
       "      <td>3</td>\n",
       "      <td>3</td>\n",
       "      <td>2800</td>\n",
       "      <td>0.000200</td>\n",
       "      <td>0.1600</td>\n",
       "      <td>16.65</td>\n",
       "      <td>0</td>\n",
       "      <td>Red</td>\n",
       "    </tr>\n",
       "    <tr>\n",
       "      <th>4</th>\n",
       "      <td>4</td>\n",
       "      <td>4</td>\n",
       "      <td>1939</td>\n",
       "      <td>0.000138</td>\n",
       "      <td>0.1030</td>\n",
       "      <td>20.06</td>\n",
       "      <td>0</td>\n",
       "      <td>Red</td>\n",
       "    </tr>\n",
       "  </tbody>\n",
       "</table>\n",
       "</div>"
      ],
      "text/plain": [
       "   Unnamed: 0.1  Unnamed: 0  Temperature (K)  Luminosity(L/Lo)  Radius(R/Ro)  \\\n",
       "0             0           0             3068          0.002400        0.1700   \n",
       "1             1           1             3042          0.000500        0.1542   \n",
       "2             2           2             2600          0.000300        0.1020   \n",
       "3             3           3             2800          0.000200        0.1600   \n",
       "4             4           4             1939          0.000138        0.1030   \n",
       "\n",
       "   Absolute magnitude(Mv)  Star type Star color  \n",
       "0                   16.12          0        Red  \n",
       "1                   16.60          0        Red  \n",
       "2                   18.70          0        Red  \n",
       "3                   16.65          0        Red  \n",
       "4                   20.06          0        Red  "
      ]
     },
     "execution_count": 2,
     "metadata": {},
     "output_type": "execute_result"
    }
   ],
   "source": [
    "df = pd.read_csv('data.csv')\n",
    "df.head()"
   ]
  },
  {
   "cell_type": "markdown",
   "id": "simple-subdivision",
   "metadata": {
    "ExecuteTime": {
     "end_time": "2024-07-24T13:06:08.641896400Z",
     "start_time": "2024-07-24T13:06:08.631853500Z"
    }
   },
   "source": [
    "## Предобработка и анализ данных"
   ]
  },
  {
   "cell_type": "code",
   "execution_count": 3,
   "id": "flush-dream",
   "metadata": {
    "ExecuteTime": {
     "end_time": "2024-07-27T12:27:47.557690700Z",
     "start_time": "2024-07-27T12:27:47.527597300Z"
    }
   },
   "outputs": [],
   "source": [
    "df.drop(columns=['Unnamed: 0.1', 'Unnamed: 0'], inplace=True)"
   ]
  },
  {
   "cell_type": "code",
   "execution_count": 4,
   "id": "ccf93b42",
   "metadata": {
    "ExecuteTime": {
     "end_time": "2024-07-27T12:27:47.917020900Z",
     "start_time": "2024-07-27T12:27:47.880737200Z"
    },
    "collapsed": false,
    "jupyter": {
     "outputs_hidden": false
    }
   },
   "outputs": [
    {
     "data": {
      "text/html": [
       "<div>\n",
       "<style scoped>\n",
       "    .dataframe tbody tr th:only-of-type {\n",
       "        vertical-align: middle;\n",
       "    }\n",
       "\n",
       "    .dataframe tbody tr th {\n",
       "        vertical-align: top;\n",
       "    }\n",
       "\n",
       "    .dataframe thead th {\n",
       "        text-align: right;\n",
       "    }\n",
       "</style>\n",
       "<table border=\"1\" class=\"dataframe\">\n",
       "  <thead>\n",
       "    <tr style=\"text-align: right;\">\n",
       "      <th></th>\n",
       "      <th>Temperature (K)</th>\n",
       "      <th>Luminosity(L/Lo)</th>\n",
       "      <th>Radius(R/Ro)</th>\n",
       "      <th>Absolute magnitude(Mv)</th>\n",
       "      <th>Star type</th>\n",
       "      <th>Star color</th>\n",
       "    </tr>\n",
       "  </thead>\n",
       "  <tbody>\n",
       "    <tr>\n",
       "      <th>0</th>\n",
       "      <td>3068</td>\n",
       "      <td>0.002400</td>\n",
       "      <td>0.1700</td>\n",
       "      <td>16.12</td>\n",
       "      <td>0</td>\n",
       "      <td>Red</td>\n",
       "    </tr>\n",
       "    <tr>\n",
       "      <th>1</th>\n",
       "      <td>3042</td>\n",
       "      <td>0.000500</td>\n",
       "      <td>0.1542</td>\n",
       "      <td>16.60</td>\n",
       "      <td>0</td>\n",
       "      <td>Red</td>\n",
       "    </tr>\n",
       "    <tr>\n",
       "      <th>2</th>\n",
       "      <td>2600</td>\n",
       "      <td>0.000300</td>\n",
       "      <td>0.1020</td>\n",
       "      <td>18.70</td>\n",
       "      <td>0</td>\n",
       "      <td>Red</td>\n",
       "    </tr>\n",
       "    <tr>\n",
       "      <th>3</th>\n",
       "      <td>2800</td>\n",
       "      <td>0.000200</td>\n",
       "      <td>0.1600</td>\n",
       "      <td>16.65</td>\n",
       "      <td>0</td>\n",
       "      <td>Red</td>\n",
       "    </tr>\n",
       "    <tr>\n",
       "      <th>4</th>\n",
       "      <td>1939</td>\n",
       "      <td>0.000138</td>\n",
       "      <td>0.1030</td>\n",
       "      <td>20.06</td>\n",
       "      <td>0</td>\n",
       "      <td>Red</td>\n",
       "    </tr>\n",
       "  </tbody>\n",
       "</table>\n",
       "</div>"
      ],
      "text/plain": [
       "   Temperature (K)  Luminosity(L/Lo)  Radius(R/Ro)  Absolute magnitude(Mv)  \\\n",
       "0             3068          0.002400        0.1700                   16.12   \n",
       "1             3042          0.000500        0.1542                   16.60   \n",
       "2             2600          0.000300        0.1020                   18.70   \n",
       "3             2800          0.000200        0.1600                   16.65   \n",
       "4             1939          0.000138        0.1030                   20.06   \n",
       "\n",
       "   Star type Star color  \n",
       "0          0        Red  \n",
       "1          0        Red  \n",
       "2          0        Red  \n",
       "3          0        Red  \n",
       "4          0        Red  "
      ]
     },
     "execution_count": 4,
     "metadata": {},
     "output_type": "execute_result"
    }
   ],
   "source": [
    "df.head()"
   ]
  },
  {
   "cell_type": "code",
   "execution_count": 5,
   "id": "949998da",
   "metadata": {
    "ExecuteTime": {
     "end_time": "2024-07-27T12:27:48.393967700Z",
     "start_time": "2024-07-27T12:27:48.353195100Z"
    },
    "collapsed": false,
    "jupyter": {
     "outputs_hidden": false
    }
   },
   "outputs": [
    {
     "data": {
      "text/plain": [
       "(240, 6)"
      ]
     },
     "execution_count": 5,
     "metadata": {},
     "output_type": "execute_result"
    }
   ],
   "source": [
    "df.shape"
   ]
  },
  {
   "cell_type": "code",
   "execution_count": 6,
   "id": "4b327e73",
   "metadata": {
    "ExecuteTime": {
     "end_time": "2024-07-27T12:27:48.781563200Z",
     "start_time": "2024-07-27T12:27:48.761962Z"
    },
    "collapsed": false,
    "jupyter": {
     "outputs_hidden": false
    }
   },
   "outputs": [
    {
     "data": {
      "text/plain": [
       "array(['Red', 'Blue White', 'White', 'Yellowish White', 'Blue white',\n",
       "       'Pale yellow orange', 'Blue', 'Blue-white', 'Whitish',\n",
       "       'yellow-white', 'Orange', 'White-Yellow', 'white', 'Blue ',\n",
       "       'yellowish', 'Yellowish', 'Orange-Red', 'Blue white ',\n",
       "       'Blue-White'], dtype=object)"
      ]
     },
     "execution_count": 6,
     "metadata": {},
     "output_type": "execute_result"
    }
   ],
   "source": [
    "df['Star color'].unique()"
   ]
  },
  {
   "cell_type": "markdown",
   "id": "0bd02852",
   "metadata": {
    "collapsed": false,
    "jupyter": {
     "outputs_hidden": false
    }
   },
   "source": [
    "##### Много совпадений в столбце 'Star color'. Исправим"
   ]
  },
  {
   "cell_type": "code",
   "execution_count": 7,
   "id": "bb9a4cbe",
   "metadata": {
    "ExecuteTime": {
     "end_time": "2024-07-27T12:27:49.620891Z",
     "start_time": "2024-07-27T12:27:49.596988Z"
    },
    "collapsed": false,
    "jupyter": {
     "outputs_hidden": false
    }
   },
   "outputs": [],
   "source": [
    "tempz = df['Star color'].str.lower().str.split('-')\n",
    "tempz = tempz.apply(lambda x: ' '.join(x)).str.strip()\n",
    "tempz[tempz == 'white yellow'] = 'yellow white'"
   ]
  },
  {
   "cell_type": "code",
   "execution_count": 8,
   "id": "eb8edb76",
   "metadata": {
    "ExecuteTime": {
     "end_time": "2024-07-27T12:27:49.939088600Z",
     "start_time": "2024-07-27T12:27:49.928550600Z"
    },
    "collapsed": false,
    "jupyter": {
     "outputs_hidden": false
    }
   },
   "outputs": [],
   "source": [
    "df['Star color'] = tempz"
   ]
  },
  {
   "cell_type": "code",
   "execution_count": 9,
   "id": "e8b02762",
   "metadata": {
    "ExecuteTime": {
     "end_time": "2024-07-27T12:27:50.269124100Z",
     "start_time": "2024-07-27T12:27:50.253576700Z"
    },
    "collapsed": false,
    "jupyter": {
     "outputs_hidden": false
    }
   },
   "outputs": [
    {
     "data": {
      "text/plain": [
       "array(['red', 'blue white', 'white', 'yellowish white',\n",
       "       'pale yellow orange', 'blue', 'whitish', 'yellow white', 'orange',\n",
       "       'yellowish', 'orange red'], dtype=object)"
      ]
     },
     "execution_count": 9,
     "metadata": {},
     "output_type": "execute_result"
    }
   ],
   "source": [
    "df[\"Star color\"].unique()"
   ]
  },
  {
   "cell_type": "markdown",
   "id": "2df2d0ba",
   "metadata": {
    "collapsed": false,
    "jupyter": {
     "outputs_hidden": false
    }
   },
   "source": [
    "Сократили количество цветов до 11"
   ]
  },
  {
   "cell_type": "markdown",
   "id": "27831908",
   "metadata": {
    "collapsed": false,
    "jupyter": {
     "outputs_hidden": false
    }
   },
   "source": [
    "Теперь посмотрим на распределение в этом столбце"
   ]
  },
  {
   "cell_type": "code",
   "execution_count": 10,
   "id": "a1782b5b",
   "metadata": {
    "ExecuteTime": {
     "end_time": "2024-07-27T12:27:51.337827600Z",
     "start_time": "2024-07-27T12:27:51.317415900Z"
    },
    "collapsed": false,
    "jupyter": {
     "outputs_hidden": false
    }
   },
   "outputs": [
    {
     "data": {
      "text/plain": [
       "Star color\n",
       "red                   112\n",
       "blue                   56\n",
       "blue white             41\n",
       "white                  10\n",
       "yellow white            9\n",
       "yellowish white         3\n",
       "yellowish               3\n",
       "whitish                 2\n",
       "orange                  2\n",
       "pale yellow orange      1\n",
       "orange red              1\n",
       "Name: count, dtype: int64"
      ]
     },
     "execution_count": 10,
     "metadata": {},
     "output_type": "execute_result"
    }
   ],
   "source": [
    "df['Star color'].value_counts()"
   ]
  },
  {
   "cell_type": "markdown",
   "id": "c5bdf489",
   "metadata": {
    "collapsed": false,
    "jupyter": {
     "outputs_hidden": false
    }
   },
   "source": [
    "Объединим в один столбец последние 3 строки (orange, pale yellow orange, orange red)"
   ]
  },
  {
   "cell_type": "code",
   "execution_count": 11,
   "id": "c4dde2c4",
   "metadata": {
    "ExecuteTime": {
     "end_time": "2024-07-27T12:27:52.013104600Z",
     "start_time": "2024-07-27T12:27:51.997989100Z"
    },
    "collapsed": false,
    "jupyter": {
     "outputs_hidden": false
    }
   },
   "outputs": [],
   "source": [
    "df[df == 'pale yellow orange'] = 'orange'\n",
    "df[df == 'orange red'] = 'orange'"
   ]
  },
  {
   "cell_type": "code",
   "execution_count": 12,
   "id": "90e8b1a0",
   "metadata": {
    "ExecuteTime": {
     "end_time": "2024-07-27T12:27:52.366591300Z",
     "start_time": "2024-07-27T12:27:52.314569400Z"
    },
    "collapsed": false,
    "jupyter": {
     "outputs_hidden": false
    }
   },
   "outputs": [
    {
     "data": {
      "text/plain": [
       "Star color\n",
       "red                112\n",
       "blue                56\n",
       "blue white          41\n",
       "white               10\n",
       "yellow white         9\n",
       "orange               4\n",
       "yellowish white      3\n",
       "yellowish            3\n",
       "whitish              2\n",
       "Name: count, dtype: int64"
      ]
     },
     "execution_count": 12,
     "metadata": {},
     "output_type": "execute_result"
    }
   ],
   "source": [
    "df[\"Star color\"].value_counts()"
   ]
  },
  {
   "cell_type": "markdown",
   "id": "07b8f5de",
   "metadata": {
    "collapsed": false,
    "jupyter": {
     "outputs_hidden": false
    }
   },
   "source": [
    "#### Посмотрим на распределение числовых признаков"
   ]
  },
  {
   "cell_type": "code",
   "execution_count": 13,
   "id": "87577bd8",
   "metadata": {
    "ExecuteTime": {
     "end_time": "2024-07-27T12:27:54.156961500Z",
     "start_time": "2024-07-27T12:27:52.877077700Z"
    },
    "collapsed": false,
    "jupyter": {
     "outputs_hidden": false
    }
   },
   "outputs": [
    {
     "data": {
      "image/png": "[encoded data removed]",
      "text/plain": [
       "<Figure size 1200x1000 with 4 Axes>"
      ]
     },
     "metadata": {},
     "output_type": "display_data"
    }
   ],
   "source": [
    "fig, ax = plt.subplots(2,2, figsize=(12,10))\n",
    "\n",
    "for i,column in enumerate(df.columns[:4]):\n",
    "    sns.kdeplot(df[column], ax = ax[i//2,i%2])"
   ]
  },
  {
   "cell_type": "markdown",
   "id": "3436aaa4",
   "metadata": {
    "collapsed": false,
    "jupyter": {
     "outputs_hidden": false
    }
   },
   "source": [
    "\n",
    "1. **Температура (верхний левый график)**:\n",
    "   - Большинство звезд имеют температуру в диапазоне от 0 до 10,000 К.\n",
    "   - Пик плотности наблюдается около 5,000 К.\n",
    "   - Небольшое количество звезд имеет температуру выше 20,000 К.\n",
    "\n",
    "2. **Светимость (верхний правый график)**:\n",
    "   - Светимость большинства звезд сосредоточена в районе от 0 до 200,000 $L_{\\odot}$ (где $L_{\\odot}$ — светимость Солнца).\n",
    "   - Пик плотности наблюдается около 50,000 $L_{\\odot}$.\n",
    "   - Есть небольшое количество звезд с очень высокой светимостью до 1,000,000 $L_{\\odot}$.\n",
    "\n",
    "3. **Радиус (нижний левый график)**:\n",
    "   - Большинство звезд имеют радиус в пределах от 0 до 500 $R_{\\odot}$ (где $R_{\\odot}$ — радиус Солнца).\n",
    "   - Пик плотности находится около 200 $R_{\\odot}$.\n",
    "   - Есть небольшое количество звезд с радиусом вплоть до 2,500 $R_{\\odot}$.\n",
    "\n",
    "4. **Абсолютная величина (нижний правый график)**:\n",
    "   - Распределение плотности абсолютной величины имеет два явных пика: один около -10 и второй около 15.\n",
    "   - Это указывает на наличие двух основных популяций звезд: одна группа состоит из очень ярких звезд (отрицательные величины), а другая из более тусклых звезд (положительные величины)."
   ]
  },
  {
   "cell_type": "markdown",
   "id": "f8974b9c",
   "metadata": {
    "collapsed": false,
    "jupyter": {
     "outputs_hidden": false
    }
   },
   "source": [
    "#### Посмотрим на распределение категориальных признаков"
   ]
  },
  {
   "cell_type": "code",
   "execution_count": 14,
   "id": "2af2da0d",
   "metadata": {
    "ExecuteTime": {
     "end_time": "2024-07-27T12:27:54.165569800Z",
     "start_time": "2024-07-27T12:27:54.163544300Z"
    },
    "collapsed": false,
    "jupyter": {
     "outputs_hidden": false
    }
   },
   "outputs": [],
   "source": [
    "# Отберем только 5 популярных цветов звезд (9 на графике не поместится)\n",
    "\n",
    "temp_arr = df['Star color'].value_counts().nlargest(5)\n",
    "temp_df = df[df[\"Star color\"].apply(lambda x: x in temp_arr)]"
   ]
  },
  {
   "cell_type": "code",
   "execution_count": 15,
   "id": "2b30d525",
   "metadata": {
    "ExecuteTime": {
     "end_time": "2024-07-27T12:27:54.838089900Z",
     "start_time": "2024-07-27T12:27:54.430290700Z"
    },
    "collapsed": false,
    "jupyter": {
     "outputs_hidden": false
    }
   },
   "outputs": [
    {
     "data": {
      "text/plain": [
       "<Axes: xlabel='Star color', ylabel='Count'>"
      ]
     },
     "execution_count": 15,
     "metadata": {},
     "output_type": "execute_result"
    },
    {
     "data": {
      "image/png": "[encoded data removed]",
      "text/plain": [
       "<Figure size 1200x500 with 2 Axes>"
      ]
     },
     "metadata": {},
     "output_type": "display_data"
    }
   ],
   "source": [
    "fig, ax = plt.subplots(1,2, figsize=(12,5))\n",
    "\n",
    "sns.histplot(df[\"Star type\"], ax=ax[0])\n",
    "sns.histplot(temp_df['Star color'], ax=ax[1])"
   ]
  },
  {
   "cell_type": "markdown",
   "id": "ba550b43",
   "metadata": {
    "collapsed": false,
    "jupyter": {
     "outputs_hidden": false
    }
   },
   "source": [
    "#### Разделение выборки"
   ]
  },
  {
   "cell_type": "code",
   "execution_count": 16,
   "id": "2b8a0d34",
   "metadata": {
    "ExecuteTime": {
     "end_time": "2024-07-27T12:27:56.558790200Z",
     "start_time": "2024-07-27T12:27:54.868590400Z"
    },
    "collapsed": false,
    "jupyter": {
     "outputs_hidden": false
    }
   },
   "outputs": [],
   "source": [
    "from sklearn.model_selection import train_test_split\n",
    "\n",
    "X_train, X_test, y_train, y_test = train_test_split(df.drop('Temperature (K)', axis=1), df['Temperature (K)'], test_size=0.3, random_state=42)"
   ]
  },
  {
   "cell_type": "markdown",
   "id": "5248c6c8",
   "metadata": {
    "collapsed": false,
    "jupyter": {
     "outputs_hidden": false
    }
   },
   "source": [
    "#### Масштабирование выборки и One-Hot encoding"
   ]
  },
  {
   "cell_type": "code",
   "execution_count": 17,
   "id": "72da3e9c",
   "metadata": {
    "ExecuteTime": {
     "end_time": "2024-07-27T12:27:56.592487900Z",
     "start_time": "2024-07-27T12:27:56.563797200Z"
    },
    "collapsed": false,
    "jupyter": {
     "outputs_hidden": false
    }
   },
   "outputs": [],
   "source": [
    "from sklearn.preprocessing import OneHotEncoder, StandardScaler\n",
    "from sklearn.compose import ColumnTransformer\n",
    "\n",
    "# Определение колонок\n",
    "numerical_cols = X_train._get_numeric_data().columns\n",
    "categorical_cols = ['Star color']\n",
    "\n",
    "# Создание трансформеров для числовых и категориальных данных\n",
    "numerical_transformer = StandardScaler()\n",
    "categorical_transformer = OneHotEncoder(handle_unknown='ignore', sparse_output=False)\n",
    "\n",
    "# Объединение трансформеров в ColumnTransformer\n",
    "preprocessor = ColumnTransformer(\n",
    "    transformers=[\n",
    "        ('num', numerical_transformer, numerical_cols),\n",
    "        ('cat', categorical_transformer, categorical_cols)\n",
    "    ]\n",
    ")\n",
    "\n",
    "# Преобразование выборок\n",
    "X_train_processed = preprocessor.fit_transform(X_train)\n",
    "X_test_processed = preprocessor.transform(X_test)\n",
    "\n",
    "# Масштабирование целевой переменной\n",
    "y_scaler = StandardScaler()\n",
    "y_train_scaled = y_scaler.fit_transform(y_train.values.reshape(-1, 1)).flatten()\n",
    "y_test_scaled = y_scaler.transform(y_test.values.reshape(-1, 1)).flatten()"
   ]
  },
  {
   "cell_type": "markdown",
   "id": "3fde89cb",
   "metadata": {
    "collapsed": false,
    "jupyter": {
     "outputs_hidden": false
    }
   },
   "source": [
    "## Построение базовой нейронной сети"
   ]
  },
  {
   "cell_type": "code",
   "execution_count": 191,
   "id": "f3b9092f",
   "metadata": {
    "ExecuteTime": {
     "end_time": "2024-07-27T15:36:35.144705300Z",
     "start_time": "2024-07-27T15:36:35.133638500Z"
    },
    "collapsed": false,
    "jupyter": {
     "outputs_hidden": false
    }
   },
   "outputs": [],
   "source": [
    "import torch.nn as nn\n",
    "import torch\n",
    "import random"
   ]
  },
  {
   "cell_type": "code",
   "execution_count": 211,
   "id": "43cab802",
   "metadata": {
    "ExecuteTime": {
     "end_time": "2024-07-27T15:47:57.969084200Z",
     "start_time": "2024-07-27T15:47:57.950741400Z"
    },
    "collapsed": false,
    "jupyter": {
     "outputs_hidden": false
    }
   },
   "outputs": [],
   "source": [
    "# Фиксация сидов для воспроизводимости\n",
    "def set_seed(seed):\n",
    "    torch.manual_seed(seed)\n",
    "    np.random.seed(seed)\n",
    "    random.seed(seed)\n",
    "    if torch.cuda.is_available():\n",
    "        torch.cuda.manual_seed(seed)\n",
    "        torch.cuda.manual_seed_all(seed)\n",
    "    torch.backends.cudnn.deterministic = True\n",
    "    torch.backends.cudnn.benchmark = False\n",
    "\n",
    "set_seed(42)\n",
    "\n",
    "\n",
    "# Преобразование в тензоры\n",
    "X_train = torch.FloatTensor(X_train_processed)\n",
    "X_test = torch.FloatTensor(X_test_processed)\n",
    "y_train = torch.FloatTensor(y_train_scaled)\n",
    "y_test = torch.FloatTensor(y_test_scaled)"
   ]
  },
  {
   "cell_type": "code",
   "execution_count": 212,
   "id": "0984218c",
   "metadata": {
    "ExecuteTime": {
     "end_time": "2024-07-27T15:47:58.366947700Z",
     "start_time": "2024-07-27T15:47:58.346414400Z"
    },
    "collapsed": false,
    "jupyter": {
     "outputs_hidden": false
    }
   },
   "outputs": [],
   "source": [
    "class NN(nn.Module):\n",
    "    def __init__(self, n_in_neurons, n_hidden_neurons, n_out_neurons):\n",
    "        super().__init__()\n",
    "        self.fc1 = nn.Linear(n_in_neurons, n_hidden_neurons)\n",
    "        self.act1 = nn.ReLU()\n",
    "        self.fc2 = nn.Linear(n_hidden_neurons, n_hidden_neurons)\n",
    "        self.act2 = nn.ReLU()\n",
    "        self.fc3 = nn.Linear(n_hidden_neurons, n_out_neurons)\n",
    "\n",
    "    def forward(self, x):\n",
    "        x = self.fc1(x)\n",
    "        x = self.act1(x)\n",
    "\n",
    "        x = self.fc2(x)\n",
    "        x = self.act2(x)\n",
    "\n",
    "        x = self.fc3(x)\n",
    "\n",
    "        return x\n",
    "\n",
    "n_in_neuron = X_train.shape[1]\n",
    "n_hidden_neuron = 64\n",
    "n_out_neuron = 1\n",
    "\n",
    "net = NN(n_in_neuron, n_hidden_neuron, n_out_neuron)\n",
    "optimizer = torch.optim.Adam(net.parameters(), lr= 1e-3)\n",
    "loss = nn.MSELoss()\n",
    "\n",
    "num_epoch = 100"
   ]
  },
  {
   "cell_type": "code",
   "execution_count": 213,
   "id": "4e6a31c2",
   "metadata": {
    "ExecuteTime": {
     "end_time": "2024-07-27T15:47:58.926218200Z",
     "start_time": "2024-07-27T15:47:58.729249300Z"
    },
    "collapsed": false,
    "jupyter": {
     "outputs_hidden": false
    }
   },
   "outputs": [],
   "source": [
    "for epoch in range(num_epoch):\n",
    "    optimizer.zero_grad()\n",
    "\n",
    "    preds = net.forward(X_train).flatten()\n",
    "    loss_value = loss(preds, y_train)\n",
    "    loss_value.backward()\n",
    "\n",
    "    optimizer.step()"
   ]
  },
  {
   "cell_type": "markdown",
   "id": "044e66de",
   "metadata": {
    "collapsed": false,
    "jupyter": {
     "outputs_hidden": false
    }
   },
   "source": [
    "#### Прогнозирование"
   ]
  },
  {
   "cell_type": "code",
   "execution_count": 214,
   "id": "2be00a09",
   "metadata": {
    "ExecuteTime": {
     "end_time": "2024-07-27T15:47:59.429411400Z",
     "start_time": "2024-07-27T15:47:59.415417100Z"
    },
    "collapsed": false,
    "jupyter": {
     "outputs_hidden": false
    }
   },
   "outputs": [],
   "source": [
    "net.eval()\n",
    "test_preds_scaled = net.forward(X_test).flatten().detach().numpy()\n",
    "\n",
    "# Восстановление масштаба прогнозов\n",
    "test_preds = y_scaler.inverse_transform(test_preds_scaled.reshape(-1, 1)).flatten()\n",
    "y_test = y_scaler.inverse_transform(y_test.reshape(-1, 1)).flatten()"
   ]
  },
  {
   "cell_type": "code",
   "execution_count": 215,
   "id": "2301948d",
   "metadata": {
    "ExecuteTime": {
     "end_time": "2024-07-27T15:48:00.307288600Z",
     "start_time": "2024-07-27T15:48:00.272444300Z"
    },
    "collapsed": false,
    "jupyter": {
     "outputs_hidden": false
    }
   },
   "outputs": [
    {
     "data": {
      "text/plain": [
       "5480.883710632937"
      ]
     },
     "execution_count": 215,
     "metadata": {},
     "output_type": "execute_result"
    }
   ],
   "source": [
    "from sklearn.metrics import mean_squared_error\n",
    "\n",
    "np.sqrt(mean_squared_error(test_preds, y_test))"
   ]
  },
  {
   "cell_type": "markdown",
   "id": "c242ec45",
   "metadata": {
    "collapsed": false,
    "jupyter": {
     "outputs_hidden": false
    }
   },
   "source": [
    "#### Создание графика"
   ]
  },
  {
   "cell_type": "code",
   "execution_count": 216,
   "id": "7d3b7499",
   "metadata": {
    "ExecuteTime": {
     "end_time": "2024-07-27T15:48:01.491385900Z",
     "start_time": "2024-07-27T15:48:01.222983Z"
    },
    "collapsed": false,
    "jupyter": {
     "outputs_hidden": false
    }
   },
   "outputs": [
    {
     "data": {
      "image/png": "[encoded data removed]",
      "text/plain": [
       "<Figure size 1200x600 with 1 Axes>"
      ]
     },
     "metadata": {},
     "output_type": "display_data"
    }
   ],
   "source": [
    "indices = np.arange(len(test_preds))[:13]\n",
    "fact_values = y_test[:13]\n",
    "pred_values = test_preds[:13]\n",
    "\n",
    "bar_width = 0.35\n",
    "\n",
    "fig, ax = plt.subplots(figsize = (12,6))\n",
    "bars1 = ax.bar(indices, fact_values, bar_width, label='Факт', color='lightblue')\n",
    "bars2 = ax.bar(indices + bar_width, pred_values, bar_width, label='Прогноз', color='orange')\n",
    "\n",
    "ax.set_xlabel('Номер звезды в таблице данных')\n",
    "ax.set_ylabel('Температура звезды')\n",
    "ax.set_title('Фактические и прогнозируемые температуры звезд')\n",
    "ax.set_xticks(indices + bar_width / 2)\n",
    "ax.set_xticklabels(indices)\n",
    "ax.legend()\n",
    "\n",
    "plt.show()"
   ]
  },
  {
   "cell_type": "markdown",
   "id": "e82d4d20",
   "metadata": {
    "collapsed": false,
    "jupyter": {
     "outputs_hidden": false
    }
   },
   "source": [
    "#### Основные выводы:\n",
    "\n",
    "1. **Различия между фактическими и прогнозируемыми значениями:**\n",
    "   - В некоторых случаях прогнозируемые температуры сильно отличаются от фактических. Например, для звезды под номером 3 фактическая температура значительно выше прогнозируемой.\n",
    "   - Для звезды под номером 4  наблюдается обратная ситуация – прогнозируемая температура значительно выше фактической.\n",
    "\n",
    "2. **Точность прогнозов:**\n",
    "   - В некоторых случаях прогнозы достаточно близки к фактическим данным. Например, для звезд под номерами 5, 7 и 8 разница между фактическими и прогнозируемыми значениями незначительна.\n",
    "\n",
    "RMSE = 5480"
   ]
  },
  {
   "cell_type": "markdown",
   "id": "2aa5c199",
   "metadata": {
    "collapsed": false,
    "jupyter": {
     "outputs_hidden": false
    }
   },
   "source": [
    "## Улучшение нейронной сети"
   ]
  },
  {
   "cell_type": "code",
   "execution_count": 207,
   "id": "d78dc63e",
   "metadata": {
    "ExecuteTime": {
     "end_time": "2024-07-27T15:39:55.148507200Z",
     "start_time": "2024-07-27T15:39:48.186602600Z"
    },
    "collapsed": false,
    "jupyter": {
     "outputs_hidden": false
    }
   },
   "outputs": [
    {
     "name": "stdout",
     "output_type": "stream",
     "text": [
      "Epoch 40/400, Loss: 0.17690908908843994, LR: 0.001\n",
      "Epoch 80/400, Loss: 0.197854798464548, LR: 0.001\n",
      "Epoch 120/400, Loss: 0.15812463348820097, LR: 0.001\n",
      "Epoch 160/400, Loss: 0.14401096282970338, LR: 0.001\n",
      "Epoch 200/400, Loss: 0.13179541875918707, LR: 0.001\n",
      "Epoch 240/400, Loss: 0.12767348935206732, LR: 0.001\n",
      "Epoch 280/400, Loss: 0.11819105134123847, LR: 0.001\n",
      "Epoch 320/400, Loss: 0.10573315407548632, LR: 0.001\n",
      "Epoch 360/400, Loss: 0.16409508954911006, LR: 0.001\n",
      "Epoch 400/400, Loss: 0.14771346960748946, LR: 0.001\n",
      "Обучение завершено\n"
     ]
    }
   ],
   "source": [
    "from torch import optim\n",
    "from torch.utils.data import DataLoader, TensorDataset\n",
    "from torch.optim.lr_scheduler import LambdaLR\n",
    "from torch.utils.tensorboard import SummaryWriter\n",
    "\n",
    "\n",
    "def set_seed(seed):\n",
    "    torch.manual_seed(seed)\n",
    "    np.random.seed(seed)\n",
    "    random.seed(seed)\n",
    "    if torch.cuda.is_available():\n",
    "        torch.cuda.manual_seed(seed)\n",
    "        torch.cuda.manual_seed_all(seed)\n",
    "    torch.backends.cudnn.deterministic = True\n",
    "    torch.backends.cudnn.benchmark = False\n",
    "\n",
    "set_seed(42)\n",
    "\n",
    "X_train = torch.FloatTensor(X_train_processed)\n",
    "X_test = torch.FloatTensor(X_test_processed)\n",
    "y_train = torch.FloatTensor(y_train_scaled)\n",
    "y_test = torch.FloatTensor(y_test_scaled)\n",
    "\n",
    "class NN2(nn.Module):\n",
    "    def __init__(self, n_in_neurons, n_hidden_neurons, n_out_neurons):\n",
    "        super(NN2, self).__init__()\n",
    "        self.fc1 = nn.Linear(n_in_neurons, n_hidden_neurons)\n",
    "        self.bn1 = nn.BatchNorm1d(n_hidden_neurons)\n",
    "        self.act1 = nn.ReLU()\n",
    "\n",
    "        self.fc2 = nn.Linear(n_hidden_neurons, n_hidden_neurons)\n",
    "        self.bn2 = nn.BatchNorm1d(n_hidden_neurons)\n",
    "        self.act2 = nn.ReLU()\n",
    "\n",
    "        self.fc3 = nn.Linear(n_hidden_neurons, n_out_neurons)\n",
    "\n",
    "\n",
    "    def forward(self, x):\n",
    "        x = self.fc1(x)\n",
    "        x = self.bn1(x)\n",
    "        x = self.act1(x)\n",
    "\n",
    "        x = self.fc2(x)\n",
    "        x = self.bn2(x)\n",
    "        x = self.act2(x)\n",
    "\n",
    "        x = self.fc3(x)\n",
    "\n",
    "        return x\n",
    "\n",
    "# Загрузка данных\n",
    "train_dataset = TensorDataset(X_train, y_train)\n",
    "train_loader = DataLoader(train_dataset, batch_size=32, shuffle=True)\n",
    "\n",
    "# Параметры модели\n",
    "n_in_neuron = X_train.shape[1]\n",
    "n_hidden_neuron = 64\n",
    "n_out_neuron = 1\n",
    "\n",
    "net2 = NN2(n_in_neuron, n_hidden_neuron, n_out_neuron)\n",
    "\n",
    "# Использование нескольких оптимизаторов\n",
    "optimizers = {\n",
    "    'RMSprop': optim.RMSprop(net2.parameters(), lr=1e-3, weight_decay=1e-5),\n",
    "    'Adam': optim.Adam(net2.parameters(), lr=1e-3, weight_decay=1e-5)\n",
    "}\n",
    "optimizer = optimizers['RMSprop']  # Выбор оптимизатора\n",
    "\n",
    "loss_fn = nn.MSELoss()\n",
    "\n",
    "# Warm-up для learning rate\n",
    "def lr_lambda(epoch):\n",
    "    if epoch < 10:\n",
    "        return epoch / 10\n",
    "    else:\n",
    "        return 1\n",
    "\n",
    "scheduler = LambdaLR(optimizer, lr_lambda=lr_lambda)\n",
    "\n",
    "# TensorBoard для визуализации\n",
    "writer = SummaryWriter()\n",
    "\n",
    "num_epochs = 400\n",
    "best_train_loss = float('inf')\n",
    "\n",
    "for epoch in range(num_epochs):\n",
    "    net2.train()\n",
    "    running_loss = 0.0\n",
    "    for X_batch, y_batch in train_loader:\n",
    "        optimizer.zero_grad()\n",
    "\n",
    "        preds = net2(X_batch).flatten()\n",
    "        loss_value = loss_fn(preds, y_batch)\n",
    "        loss_value.backward()\n",
    "\n",
    "        # Gradient Clipping\n",
    "        torch.nn.utils.clip_grad_norm_(net2.parameters(), max_norm=1.0)\n",
    "\n",
    "        optimizer.step()\n",
    "        running_loss += loss_value.item() * X_batch.size(0)\n",
    "\n",
    "    epoch_loss = running_loss / len(train_loader.dataset)\n",
    "    writer.add_scalar('Training Loss', epoch_loss, epoch)\n",
    "\n",
    "    # Обновление learning rate через scheduler\n",
    "    scheduler.step()\n",
    "    current_lr = optimizer.param_groups[0]['lr']\n",
    "    writer.add_scalar('Learning Rate', current_lr, epoch)\n",
    "\n",
    "    # Сохранение лучшей модели\n",
    "    if epoch_loss < best_train_loss:\n",
    "        best_train_loss = epoch_loss\n",
    "        torch.save(net2.state_dict(), 'best_model.pth')\n",
    "\n",
    "    # Выводим текущий loss для мониторинга\n",
    "    if (epoch + 1) % 40 == 0:\n",
    "        print(f'Epoch {epoch+1}/{num_epochs}, Loss: {epoch_loss}, LR: {current_lr}')\n",
    "\n",
    "writer.close()\n",
    "print(\"Обучение завершено\")"
   ]
  },
  {
   "cell_type": "markdown",
   "id": "31ecd28b",
   "metadata": {
    "collapsed": false,
    "jupyter": {
     "outputs_hidden": false
    }
   },
   "source": [
    "#### Прогнозирование"
   ]
  },
  {
   "cell_type": "code",
   "execution_count": 209,
   "id": "3f35f36b",
   "metadata": {
    "ExecuteTime": {
     "end_time": "2024-07-27T15:39:57.415764500Z",
     "start_time": "2024-07-27T15:39:57.398361400Z"
    },
    "collapsed": false,
    "jupyter": {
     "outputs_hidden": false
    }
   },
   "outputs": [
    {
     "data": {
      "text/plain": [
       "4789.184195798892"
      ]
     },
     "execution_count": 209,
     "metadata": {},
     "output_type": "execute_result"
    }
   ],
   "source": [
    "net2.eval()\n",
    "test_preds_scaled = net2.forward(X_test).flatten().detach().numpy()\n",
    "\n",
    "# Восстановление масштаба прогнозов\n",
    "test_preds = y_scaler.inverse_transform(test_preds_scaled.reshape(-1, 1)).flatten()\n",
    "y_test = y_scaler.inverse_transform(y_test.reshape(-1, 1)).flatten()\n",
    "\n",
    "np.sqrt(mean_squared_error(test_preds, y_test))"
   ]
  },
  {
   "cell_type": "markdown",
   "id": "9c88f930",
   "metadata": {
    "collapsed": false,
    "jupyter": {
     "outputs_hidden": false
    }
   },
   "source": [
    "С batchnorm = 5131\n",
    "batchnorm + init weights (uniform=5517 > normal=5523) = 5517\n",
    "\n",
    "dropout = 5357\n",
    "dropout + init weights (uniform=6240 > normal=6818) = 6240\n",
    "\n",
    "Добавление методов = 4789:\n",
    "- Warm-up для Learning Rate помогает плавно разогнать learning rate в начале обучения.\n",
    "- Gradient Clipping ограничивает градиенты, чтобы предотвратить их взрыв.\n",
    "- TensorBoard используется для мониторинга потерь и learning rate."
   ]
  },
  {
   "cell_type": "markdown",
   "id": "1e3f4455",
   "metadata": {
    "collapsed": false,
    "jupyter": {
     "outputs_hidden": false
    }
   },
   "source": [
    "#### Создание графика"
   ]
  },
  {
   "cell_type": "code",
   "execution_count": 210,
   "id": "8915c805",
   "metadata": {
    "ExecuteTime": {
     "end_time": "2024-07-27T15:47:35.014752100Z",
     "start_time": "2024-07-27T15:47:34.749046800Z"
    },
    "collapsed": false,
    "jupyter": {
     "outputs_hidden": false
    }
   },
   "outputs": [
    {
     "data": {
      "image/png": "[encoded data removed]",
      "text/plain": [
       "<Figure size 1200x600 with 1 Axes>"
      ]
     },
     "metadata": {},
     "output_type": "display_data"
    }
   ],
   "source": [
    "indices = np.arange(len(test_preds))[:13]\n",
    "fact_values = y_test[:13]\n",
    "pred_values = test_preds[:13]\n",
    "\n",
    "bar_width = 0.35\n",
    "\n",
    "fig, ax = plt.subplots(figsize=(12, 6))\n",
    "bars1 = ax.bar(indices, fact_values, bar_width, label='Факт', color='lightblue')\n",
    "bars2 = ax.bar(indices + bar_width, pred_values, bar_width, label='Прогноз', color='orange')\n",
    "\n",
    "ax.set_xlabel('Номер звезды в таблице данных')\n",
    "ax.set_ylabel('Температура звезды')\n",
    "ax.set_title('Фактические и прогнозируемые температуры звезд')\n",
    "ax.set_xticks(indices + bar_width / 2)\n",
    "ax.set_xticklabels(indices)\n",
    "ax.legend()\n",
    "\n",
    "plt.show()"
   ]
  },
  {
   "cell_type": "markdown",
   "id": "accurate-infrastructure",
   "metadata": {
    "ExecuteTime": {
     "end_time": "2024-07-24T13:06:30.522180700Z",
     "start_time": "2024-07-24T13:06:30.510871900Z"
    }
   },
   "source": [
    "## Выводы"
   ]
  },
  {
   "cell_type": "markdown",
   "id": "c39b2aee",
   "metadata": {
    "collapsed": false,
    "jupyter": {
     "outputs_hidden": false
    }
   },
   "source": [
    "После улучшения модель стала значительно точнее. В случаях, когда базовая модель делала небольшие ошибки, например, в прогнозах значений 5, 8, 10 и 12, улучшенная модель практически не ошибается. Однако в ситуациях, где ошибка была значительной, улучшенная модель показывает результаты, которые либо такие же, либо немного лучше.\n",
    "\n",
    "Окончательное значение RMSE составляет 4789."
   ]
  }
 ],
 "metadata": {
  "kernelspec": {
   "display_name": "Python 3 (ipykernel)",
   "language": "python",
   "name": "python3"
  },
  "language_info": {
   "codemirror_mode": {
    "name": "ipython",
    "version": 3
   },
   "file_extension": ".py",
   "mimetype": "text/x-python",
   "name": "python",
   "nbconvert_exporter": "python",
   "pygments_lexer": "ipython3",
   "version": "3.11.7"
  },
  "toc": {
   "base_numbering": 1,
   "nav_menu": {},
   "number_sections": false,
   "sideBar": true,
   "skip_h1_title": false,
   "title_cell": "Table of Contents",
   "title_sidebar": "Contents",
   "toc_cell": false,
   "toc_position": {},
   "toc_section_display": true,
   "toc_window_display": false
  },
  "varInspector": {
   "cols": {
    "lenName": 16,
    "lenType": 16,
    "lenVar": 40
   },
   "kernels_config": {
    "python": {
     "delete_cmd_postfix": "",
     "delete_cmd_prefix": "del ",
     "library": "var_list.py",
     "varRefreshCmd": "print(var_dic_list())"
    },
    "r": {
     "delete_cmd_postfix": ") ",
     "delete_cmd_prefix": "rm(",
     "library": "var_list.r",
     "varRefreshCmd": "cat(var_dic_list()) "
    }
   },
   "types_to_exclude": [
    "module",
    "function",
    "builtin_function_or_method",
    "instance",
    "_Feature"
   ],
   "window_display": false
  }
 },
 "nbformat": 4,
 "nbformat_minor": 5
}
